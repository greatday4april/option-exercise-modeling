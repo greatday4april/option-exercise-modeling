{
 "cells": [
  {
   "cell_type": "code",
   "execution_count": 11,
   "metadata": {},
   "outputs": [],
   "source": [
    "from datetime import datetime\n",
    "\n",
    "STRIKE_PRICE = 15.68\n",
    "FMV_AT_EXERCISE = 19.95\n",
    "CAPITAL_GAIN_TAX_RATE = 0.2\n",
    "INCOME_TAX_RATE = 0.37\n",
    "STATE_TAX_RATE = 0.1\n",
    "\n",
    "GRANT_DATE = datetime.strptime('Mar 21 2021', '%b %d %Y')\n",
    "MOVE_DATE = datetime.strptime('Mar 30 2022', '%b %d %Y')\n"
   ]
  },
  {
   "cell_type": "code",
   "execution_count": 12,
   "metadata": {},
   "outputs": [],
   "source": [
    "import pandas as pd\n",
    "\n",
    "class Event:\n",
    "  def __init__(self, quantity, price, date, exercised=False, option_type=\"iso\"):\n",
    "    self.type = option_type\n",
    "    self.quantity = quantity\n",
    "    self.price = price\n",
    "    self.date = datetime.strptime(date, '%b %d %Y')\n",
    "    self.exercised = exercised\n",
    "\n",
    "  def json(self):\n",
    "    return {\"gain\": self.gain(), \"tax\": self.tax(), \"cash\": self.gain() - self.tax(), **self.__dict__}\n",
    "\n",
    "  def gain(self):\n",
    "    return int((self.price - (STRIKE_PRICE if not self.exercised else 0)) * self.quantity)\n",
    "\n",
    "  def tax(self):\n",
    "    # ISOs, 1) all capital gain 2) no state tax at sale\n",
    "    if self.type == \"iso\":\n",
    "      return int((self.price - STRIKE_PRICE) * self.quantity * CAPITAL_GAIN_TAX_RATE)\n",
    "\n",
    "    # exercised NSOs, 1) all capital gain 2) no state tax at sale\n",
    "    if self.exercised:\n",
    "      return int((self.price - FMV_AT_EXERCISE) * self.quantity * CAPITAL_GAIN_TAX_RATE)\n",
    "    \n",
    "    ca_ratio = ((MOVE_DATE - GRANT_DATE).days + 14) * 1.0 / (self.date - GRANT_DATE).days\n",
    "    return int((self.price - STRIKE_PRICE) * self.quantity * (ca_ratio * STATE_TAX_RATE + INCOME_TAX_RATE))\n"
   ]
  },
  {
   "cell_type": "code",
   "execution_count": 13,
   "metadata": {},
   "outputs": [
    {
     "data": {
      "text/plain": [
       "gain    8143708\n",
       "tax     2743547\n",
       "cash    5400161\n",
       "dtype: int64"
      ]
     },
     "execution_count": 13,
     "metadata": {},
     "output_type": "execute_result"
    }
   ],
   "source": [
    "events = [\n",
    "  Event(20500, 80, \"Sep 30 2022\", True, \"nso\"),\n",
    "  Event(6377, 100, \"Apr 01 2023\", False, \"iso\"),\n",
    "  Event(25000, 120, \"Mar 15 2024\", False, \"nso\"),\n",
    "  Event(25000, 150, \"Mar 15 2025\", False, \"nso\"),\n",
    "]\n",
    "\n",
    "df = pd.DataFrame([e.json() for e in events])\n",
    "df[[\"gain\", \"tax\", \"cash\"]].sum()"
   ]
  },
  {
   "cell_type": "code",
   "execution_count": 14,
   "metadata": {},
   "outputs": [
    {
     "data": {
      "text/html": [
       "<div>\n",
       "<style scoped>\n",
       "    .dataframe tbody tr th:only-of-type {\n",
       "        vertical-align: middle;\n",
       "    }\n",
       "\n",
       "    .dataframe tbody tr th {\n",
       "        vertical-align: top;\n",
       "    }\n",
       "\n",
       "    .dataframe thead th {\n",
       "        text-align: right;\n",
       "    }\n",
       "</style>\n",
       "<table border=\"1\" class=\"dataframe\">\n",
       "  <thead>\n",
       "    <tr style=\"text-align: right;\">\n",
       "      <th></th>\n",
       "      <th>gain</th>\n",
       "      <th>tax</th>\n",
       "      <th>cash</th>\n",
       "      <th>type</th>\n",
       "      <th>quantity</th>\n",
       "      <th>price</th>\n",
       "      <th>date</th>\n",
       "      <th>exercised</th>\n",
       "    </tr>\n",
       "  </thead>\n",
       "  <tbody>\n",
       "    <tr>\n",
       "      <th>0</th>\n",
       "      <td>1640000</td>\n",
       "      <td>246205</td>\n",
       "      <td>1393795</td>\n",
       "      <td>nso</td>\n",
       "      <td>20500</td>\n",
       "      <td>80</td>\n",
       "      <td>2022-09-30</td>\n",
       "      <td>True</td>\n",
       "    </tr>\n",
       "    <tr>\n",
       "      <th>1</th>\n",
       "      <td>537708</td>\n",
       "      <td>107541</td>\n",
       "      <td>430167</td>\n",
       "      <td>iso</td>\n",
       "      <td>6377</td>\n",
       "      <td>100</td>\n",
       "      <td>2023-04-01</td>\n",
       "      <td>False</td>\n",
       "    </tr>\n",
       "    <tr>\n",
       "      <th>2</th>\n",
       "      <td>2608000</td>\n",
       "      <td>1057795</td>\n",
       "      <td>1550205</td>\n",
       "      <td>nso</td>\n",
       "      <td>25000</td>\n",
       "      <td>120</td>\n",
       "      <td>2024-03-15</td>\n",
       "      <td>False</td>\n",
       "    </tr>\n",
       "    <tr>\n",
       "      <th>3</th>\n",
       "      <td>3358000</td>\n",
       "      <td>1332006</td>\n",
       "      <td>2025994</td>\n",
       "      <td>nso</td>\n",
       "      <td>25000</td>\n",
       "      <td>150</td>\n",
       "      <td>2025-03-15</td>\n",
       "      <td>False</td>\n",
       "    </tr>\n",
       "  </tbody>\n",
       "</table>\n",
       "</div>"
      ],
      "text/plain": [
       "      gain      tax     cash type  quantity  price       date  exercised\n",
       "0  1640000   246205  1393795  nso     20500     80 2022-09-30       True\n",
       "1   537708   107541   430167  iso      6377    100 2023-04-01      False\n",
       "2  2608000  1057795  1550205  nso     25000    120 2024-03-15      False\n",
       "3  3358000  1332006  2025994  nso     25000    150 2025-03-15      False"
      ]
     },
     "execution_count": 14,
     "metadata": {},
     "output_type": "execute_result"
    }
   ],
   "source": [
    "df"
   ]
  },
  {
   "cell_type": "code",
   "execution_count": 15,
   "metadata": {},
   "outputs": [
    {
     "data": {
      "text/plain": [
       "gain    5247396\n",
       "tax     1663688\n",
       "cash    3583708\n",
       "dtype: int64"
      ]
     },
     "execution_count": 15,
     "metadata": {},
     "output_type": "execute_result"
    }
   ],
   "source": [
    "events = [\n",
    "  Event(20500, 70, \"Sep 30 2022\", True, \"nso\"),\n",
    "  Event(6377, 70, \"Apr 01 2023\", False, \"iso\"),\n",
    "  Event(25000, 80, \"Mar 15 2024\", False, \"nso\"),\n",
    "  Event(25000, 90, \"Mar 15 2025\", False, \"nso\"),\n",
    "]\n",
    "\n",
    "df = pd.DataFrame([e.json() for e in events])\n",
    "df\n",
    "df[[\"gain\", \"tax\", \"cash\"]].sum()"
   ]
  },
  {
   "cell_type": "code",
   "execution_count": 16,
   "metadata": {},
   "outputs": [
    {
     "data": {
      "text/html": [
       "<div>\n",
       "<style scoped>\n",
       "    .dataframe tbody tr th:only-of-type {\n",
       "        vertical-align: middle;\n",
       "    }\n",
       "\n",
       "    .dataframe tbody tr th {\n",
       "        vertical-align: top;\n",
       "    }\n",
       "\n",
       "    .dataframe thead th {\n",
       "        text-align: right;\n",
       "    }\n",
       "</style>\n",
       "<table border=\"1\" class=\"dataframe\">\n",
       "  <thead>\n",
       "    <tr style=\"text-align: right;\">\n",
       "      <th></th>\n",
       "      <th>gain</th>\n",
       "      <th>tax</th>\n",
       "      <th>cash</th>\n",
       "      <th>type</th>\n",
       "      <th>quantity</th>\n",
       "      <th>price</th>\n",
       "      <th>date</th>\n",
       "      <th>exercised</th>\n",
       "    </tr>\n",
       "  </thead>\n",
       "  <tbody>\n",
       "    <tr>\n",
       "      <th>0</th>\n",
       "      <td>1435000</td>\n",
       "      <td>205205</td>\n",
       "      <td>1229795</td>\n",
       "      <td>nso</td>\n",
       "      <td>20500</td>\n",
       "      <td>70</td>\n",
       "      <td>2022-09-30</td>\n",
       "      <td>True</td>\n",
       "    </tr>\n",
       "    <tr>\n",
       "      <th>1</th>\n",
       "      <td>346398</td>\n",
       "      <td>69279</td>\n",
       "      <td>277119</td>\n",
       "      <td>iso</td>\n",
       "      <td>6377</td>\n",
       "      <td>70</td>\n",
       "      <td>2023-04-01</td>\n",
       "      <td>False</td>\n",
       "    </tr>\n",
       "    <tr>\n",
       "      <th>2</th>\n",
       "      <td>1607999</td>\n",
       "      <td>652198</td>\n",
       "      <td>955801</td>\n",
       "      <td>nso</td>\n",
       "      <td>25000</td>\n",
       "      <td>80</td>\n",
       "      <td>2024-03-15</td>\n",
       "      <td>False</td>\n",
       "    </tr>\n",
       "    <tr>\n",
       "      <th>3</th>\n",
       "      <td>1857999</td>\n",
       "      <td>737006</td>\n",
       "      <td>1120993</td>\n",
       "      <td>nso</td>\n",
       "      <td>25000</td>\n",
       "      <td>90</td>\n",
       "      <td>2025-03-15</td>\n",
       "      <td>False</td>\n",
       "    </tr>\n",
       "  </tbody>\n",
       "</table>\n",
       "</div>"
      ],
      "text/plain": [
       "      gain     tax     cash type  quantity  price       date  exercised\n",
       "0  1435000  205205  1229795  nso     20500     70 2022-09-30       True\n",
       "1   346398   69279   277119  iso      6377     70 2023-04-01      False\n",
       "2  1607999  652198   955801  nso     25000     80 2024-03-15      False\n",
       "3  1857999  737006  1120993  nso     25000     90 2025-03-15      False"
      ]
     },
     "execution_count": 16,
     "metadata": {},
     "output_type": "execute_result"
    }
   ],
   "source": [
    "df"
   ]
  },
  {
   "cell_type": "code",
   "execution_count": null,
   "metadata": {},
   "outputs": [],
   "source": []
  }
 ],
 "metadata": {
  "interpreter": {
   "hash": "31f2aee4e71d21fbe5cf8b01ff0e069b9275f58929596ceb00d14d90e3e16cd6"
  },
  "kernelspec": {
   "display_name": "Python 3",
   "language": "python",
   "name": "python3"
  },
  "language_info": {
   "codemirror_mode": {
    "name": "ipython",
    "version": 3
   },
   "file_extension": ".py",
   "mimetype": "text/x-python",
   "name": "python",
   "nbconvert_exporter": "python",
   "pygments_lexer": "ipython3",
   "version": "3.7.7"
  }
 },
 "nbformat": 4,
 "nbformat_minor": 2
}
